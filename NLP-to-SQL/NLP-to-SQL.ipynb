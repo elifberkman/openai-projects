{
 "cells": [
  {
   "cell_type": "markdown",
   "source": [
    "# NLP TO SQL\n",
    "\n",
    "In this project, we’ll build out a simple proof of concept that would allow a non-technical person to directly interact with a database and retrieve information without knowing SQL.\n"
   ],
   "metadata": {
    "collapsed": false
   }
  },
  {
   "cell_type": "markdown",
   "source": [
    "#### Import Libraries"
   ],
   "metadata": {
    "collapsed": false
   }
  },
  {
   "cell_type": "code",
   "execution_count": 22,
   "outputs": [],
   "source": [
    "import os\n",
    "import openai\n",
    "import pandas as pd\n",
    "from psutil import sensors_temperatures\n",
    "from sqlalchemy import create_engine\n",
    "from sqlalchemy import text"
   ],
   "metadata": {
    "collapsed": false
   }
  },
  {
   "cell_type": "markdown",
   "source": [
    "#### Get OpenAI API key"
   ],
   "metadata": {
    "collapsed": false
   }
  },
  {
   "cell_type": "code",
   "execution_count": 13,
   "outputs": [],
   "source": [
    "openai.api_key = os.getenv('OPENAI_API_KEY')"
   ],
   "metadata": {
    "collapsed": false
   }
  },
  {
   "cell_type": "markdown",
   "source": [
    "#### Tabular Data Setup"
   ],
   "metadata": {
    "collapsed": false
   }
  },
  {
   "cell_type": "code",
   "execution_count": 17,
   "outputs": [
    {
     "data": {
      "text/plain": "   ORDERNUMBER  QUANTITYORDERED  PRICEEACH    SALES        ORDERDATE  QTR_ID  \\\n0        10107               30      95.70  2871.00   2/24/2003 0:00       1   \n1        10121               34      81.35  2765.90    5/7/2003 0:00       2   \n2        10134               41      94.74  3884.34    7/1/2003 0:00       3   \n3        10145               45      83.26  3746.70   8/25/2003 0:00       3   \n4        10159               49     100.00  5205.27  10/10/2003 0:00       4   \n\n   MONTH_ID  YEAR_ID  PRODUCTLINE             PHONE  \\\n0         2     2003  Motorcycles        2125557818   \n1         5     2003  Motorcycles        26.47.1555   \n2         7     2003  Motorcycles  +33 1 46 62 7555   \n3         8     2003  Motorcycles        6265557265   \n4        10     2003  Motorcycles        6505551386   \n\n                    ADDRESSLINE1           CITY STATE POSTALCODE COUNTRY  \\\n0        897 Long Airport Avenue            NYC    NY      10022     USA   \n1             59 rue de l'Abbaye          Reims   NaN      51100  France   \n2  27 rue du Colonel Pierre Avia          Paris   NaN      75508  France   \n3             78934 Hillside Dr.       Pasadena    CA      90003     USA   \n4                7734 Strong St.  San Francisco    CA        NaN     USA   \n\n  CONTACTLASTNAME CONTACTFIRSTNAME  \n0              Yu             Kwai  \n1         Henriot             Paul  \n2        Da Cunha           Daniel  \n3           Young            Julie  \n4           Brown            Julie  ",
      "text/html": "<div>\n<style scoped>\n    .dataframe tbody tr th:only-of-type {\n        vertical-align: middle;\n    }\n\n    .dataframe tbody tr th {\n        vertical-align: top;\n    }\n\n    .dataframe thead th {\n        text-align: right;\n    }\n</style>\n<table border=\"1\" class=\"dataframe\">\n  <thead>\n    <tr style=\"text-align: right;\">\n      <th></th>\n      <th>ORDERNUMBER</th>\n      <th>QUANTITYORDERED</th>\n      <th>PRICEEACH</th>\n      <th>SALES</th>\n      <th>ORDERDATE</th>\n      <th>QTR_ID</th>\n      <th>MONTH_ID</th>\n      <th>YEAR_ID</th>\n      <th>PRODUCTLINE</th>\n      <th>PHONE</th>\n      <th>ADDRESSLINE1</th>\n      <th>CITY</th>\n      <th>STATE</th>\n      <th>POSTALCODE</th>\n      <th>COUNTRY</th>\n      <th>CONTACTLASTNAME</th>\n      <th>CONTACTFIRSTNAME</th>\n    </tr>\n  </thead>\n  <tbody>\n    <tr>\n      <th>0</th>\n      <td>10107</td>\n      <td>30</td>\n      <td>95.70</td>\n      <td>2871.00</td>\n      <td>2/24/2003 0:00</td>\n      <td>1</td>\n      <td>2</td>\n      <td>2003</td>\n      <td>Motorcycles</td>\n      <td>2125557818</td>\n      <td>897 Long Airport Avenue</td>\n      <td>NYC</td>\n      <td>NY</td>\n      <td>10022</td>\n      <td>USA</td>\n      <td>Yu</td>\n      <td>Kwai</td>\n    </tr>\n    <tr>\n      <th>1</th>\n      <td>10121</td>\n      <td>34</td>\n      <td>81.35</td>\n      <td>2765.90</td>\n      <td>5/7/2003 0:00</td>\n      <td>2</td>\n      <td>5</td>\n      <td>2003</td>\n      <td>Motorcycles</td>\n      <td>26.47.1555</td>\n      <td>59 rue de l'Abbaye</td>\n      <td>Reims</td>\n      <td>NaN</td>\n      <td>51100</td>\n      <td>France</td>\n      <td>Henriot</td>\n      <td>Paul</td>\n    </tr>\n    <tr>\n      <th>2</th>\n      <td>10134</td>\n      <td>41</td>\n      <td>94.74</td>\n      <td>3884.34</td>\n      <td>7/1/2003 0:00</td>\n      <td>3</td>\n      <td>7</td>\n      <td>2003</td>\n      <td>Motorcycles</td>\n      <td>+33 1 46 62 7555</td>\n      <td>27 rue du Colonel Pierre Avia</td>\n      <td>Paris</td>\n      <td>NaN</td>\n      <td>75508</td>\n      <td>France</td>\n      <td>Da Cunha</td>\n      <td>Daniel</td>\n    </tr>\n    <tr>\n      <th>3</th>\n      <td>10145</td>\n      <td>45</td>\n      <td>83.26</td>\n      <td>3746.70</td>\n      <td>8/25/2003 0:00</td>\n      <td>3</td>\n      <td>8</td>\n      <td>2003</td>\n      <td>Motorcycles</td>\n      <td>6265557265</td>\n      <td>78934 Hillside Dr.</td>\n      <td>Pasadena</td>\n      <td>CA</td>\n      <td>90003</td>\n      <td>USA</td>\n      <td>Young</td>\n      <td>Julie</td>\n    </tr>\n    <tr>\n      <th>4</th>\n      <td>10159</td>\n      <td>49</td>\n      <td>100.00</td>\n      <td>5205.27</td>\n      <td>10/10/2003 0:00</td>\n      <td>4</td>\n      <td>10</td>\n      <td>2003</td>\n      <td>Motorcycles</td>\n      <td>6505551386</td>\n      <td>7734 Strong St.</td>\n      <td>San Francisco</td>\n      <td>CA</td>\n      <td>NaN</td>\n      <td>USA</td>\n      <td>Brown</td>\n      <td>Julie</td>\n    </tr>\n  </tbody>\n</table>\n</div>"
     },
     "execution_count": 17,
     "metadata": {},
     "output_type": "execute_result"
    }
   ],
   "source": [
    "df = pd.read_csv(\"data/sales_data_sample.csv\")\n",
    "df.head()"
   ],
   "metadata": {
    "collapsed": false
   }
  },
  {
   "cell_type": "code",
   "execution_count": 19,
   "outputs": [
    {
     "name": "stderr",
     "output_type": "stream",
     "text": [
      "C:\\Users\\Elif\\AppData\\Local\\Temp\\ipykernel_10864\\2501432.py:1: FutureWarning: The default value of numeric_only in DataFrameGroupBy.sum is deprecated. In a future version, numeric_only will default to False. Either specify numeric_only or select only columns which should be valid for the function.\n",
      "  df.groupby(\"QTR_ID\").sum()['SALES']\n"
     ]
    },
    {
     "data": {
      "text/plain": "QTR_ID\n1    2350817.73\n2    2048120.30\n3    1758910.81\n4    3874780.01\nName: SALES, dtype: float64"
     },
     "execution_count": 19,
     "metadata": {},
     "output_type": "execute_result"
    }
   ],
   "source": [
    "df.groupby(\"QTR_ID\").sum()['SALES']"
   ],
   "metadata": {
    "collapsed": false
   }
  },
  {
   "cell_type": "code",
   "execution_count": 23,
   "outputs": [],
   "source": [
    "# Temp DB in RAM\n",
    "temp_db = create_engine('sqlite:///:memory:', echo=True)"
   ],
   "metadata": {
    "collapsed": false
   }
  },
  {
   "cell_type": "code",
   "execution_count": 24,
   "outputs": [
    {
     "name": "stdout",
     "output_type": "stream",
     "text": [
      "2023-03-25 18:52:41,754 INFO sqlalchemy.engine.Engine BEGIN (implicit)\n",
      "2023-03-25 18:52:41,756 INFO sqlalchemy.engine.Engine PRAGMA main.table_info(\"Sales\")\n",
      "2023-03-25 18:52:41,757 INFO sqlalchemy.engine.Engine [raw sql] ()\n",
      "2023-03-25 18:52:41,759 INFO sqlalchemy.engine.Engine PRAGMA temp.table_info(\"Sales\")\n",
      "2023-03-25 18:52:41,760 INFO sqlalchemy.engine.Engine [raw sql] ()\n",
      "2023-03-25 18:52:41,762 INFO sqlalchemy.engine.Engine ROLLBACK\n",
      "2023-03-25 18:52:41,765 INFO sqlalchemy.engine.Engine BEGIN (implicit)\n",
      "2023-03-25 18:52:41,767 INFO sqlalchemy.engine.Engine \n",
      "CREATE TABLE \"Sales\" (\n",
      "\t\"index\" BIGINT, \n",
      "\t\"ORDERNUMBER\" BIGINT, \n",
      "\t\"QUANTITYORDERED\" BIGINT, \n",
      "\t\"PRICEEACH\" FLOAT, \n",
      "\t\"SALES\" FLOAT, \n",
      "\t\"ORDERDATE\" TEXT, \n",
      "\t\"QTR_ID\" BIGINT, \n",
      "\t\"MONTH_ID\" BIGINT, \n",
      "\t\"YEAR_ID\" BIGINT, \n",
      "\t\"PRODUCTLINE\" TEXT, \n",
      "\t\"PHONE\" TEXT, \n",
      "\t\"ADDRESSLINE1\" TEXT, \n",
      "\t\"CITY\" TEXT, \n",
      "\t\"STATE\" TEXT, \n",
      "\t\"POSTALCODE\" TEXT, \n",
      "\t\"COUNTRY\" TEXT, \n",
      "\t\"CONTACTLASTNAME\" TEXT, \n",
      "\t\"CONTACTFIRSTNAME\" TEXT\n",
      ")\n",
      "\n",
      "\n",
      "2023-03-25 18:52:41,768 INFO sqlalchemy.engine.Engine [no key 0.00129s] ()\n",
      "2023-03-25 18:52:41,772 INFO sqlalchemy.engine.Engine CREATE INDEX \"ix_Sales_index\" ON \"Sales\" (\"index\")\n",
      "2023-03-25 18:52:41,774 INFO sqlalchemy.engine.Engine [no key 0.00170s] ()\n",
      "2023-03-25 18:52:41,778 INFO sqlalchemy.engine.Engine COMMIT\n",
      "2023-03-25 18:52:41,786 INFO sqlalchemy.engine.Engine BEGIN (implicit)\n",
      "2023-03-25 18:52:41,820 INFO sqlalchemy.engine.Engine INSERT INTO \"Sales\" (\"index\", \"ORDERNUMBER\", \"QUANTITYORDERED\", \"PRICEEACH\", \"SALES\", \"ORDERDATE\", \"QTR_ID\", \"MONTH_ID\", \"YEAR_ID\", \"PRODUCTLINE\", \"PHONE\", \"ADDRESSLINE1\", \"CITY\", \"STATE\", \"POSTALCODE\", \"COUNTRY\", \"CONTACTLASTNAME\", \"CONTACTFIRSTNAME\") VALUES (?, ?, ?, ?, ?, ?, ?, ?, ?, ?, ?, ?, ?, ?, ?, ?, ?, ?)\n",
      "2023-03-25 18:52:41,821 INFO sqlalchemy.engine.Engine [generated in 0.02827s] [(0, 10107, 30, 95.7, 2871.0, '2/24/2003 0:00', 1, 2, 2003, 'Motorcycles', '2125557818', '897 Long Airport Avenue', 'NYC', 'NY', '10022', 'USA', 'Yu', 'Kwai'), (1, 10121, 34, 81.35, 2765.9, '5/7/2003 0:00', 2, 5, 2003, 'Motorcycles', '26.47.1555', \"59 rue de l'Abbaye\", 'Reims', None, '51100', 'France', 'Henriot', 'Paul'), (2, 10134, 41, 94.74, 3884.34, '7/1/2003 0:00', 3, 7, 2003, 'Motorcycles', '+33 1 46 62 7555', '27 rue du Colonel Pierre Avia', 'Paris', None, '75508', 'France', 'Da Cunha', 'Daniel'), (3, 10145, 45, 83.26, 3746.7, '8/25/2003 0:00', 3, 8, 2003, 'Motorcycles', '6265557265', '78934 Hillside Dr.', 'Pasadena', 'CA', '90003', 'USA', 'Young', 'Julie'), (4, 10159, 49, 100.0, 5205.27, '10/10/2003 0:00', 4, 10, 2003, 'Motorcycles', '6505551386', '7734 Strong St.', 'San Francisco', 'CA', None, 'USA', 'Brown', 'Julie'), (5, 10168, 36, 96.66, 3479.76, '10/28/2003 0:00', 4, 10, 2003, 'Motorcycles', '6505556809', '9408 Furth Circle', 'Burlingame', 'CA', '94217', 'USA', 'Hirano', 'Juri'), (6, 10180, 29, 86.13, 2497.77, '11/11/2003 0:00', 4, 11, 2003, 'Motorcycles', '20.16.1555', '184, chausse de Tournai', 'Lille', None, '59000', 'France', 'Rance', 'Martine'), (7, 10188, 48, 100.0, 5512.32, '11/18/2003 0:00', 4, 11, 2003, 'Motorcycles', '+47 2267 3215', 'Drammen 121, PR 744 Sentrum', 'Bergen', None, 'N 5804', 'Norway', 'Oeztan', 'Veysel')  ... displaying 10 of 2823 total bound parameter sets ...  (2821, 10397, 34, 62.24, 2116.16, '3/28/2005 0:00', 1, 3, 2005, 'Ships', '61.77.6555', '1 rue Alsace-Lorraine', 'Toulouse', None, '31000', 'France', 'Roulet', 'Annette'), (2822, 10414, 47, 65.52, 3079.44, '5/6/2005 0:00', 2, 5, 2005, 'Ships', '6175559555', '8616 Spinnaker Dr.', 'Boston', 'MA', '51003', 'USA', 'Yoshido', 'Juri')]\n",
      "2023-03-25 18:52:41,836 INFO sqlalchemy.engine.Engine COMMIT\n",
      "2023-03-25 18:52:41,838 INFO sqlalchemy.engine.Engine BEGIN (implicit)\n",
      "2023-03-25 18:52:41,839 INFO sqlalchemy.engine.Engine SELECT name FROM sqlite_master WHERE type='table' AND name NOT LIKE 'sqlite~_%' ESCAPE '~' ORDER BY name\n",
      "2023-03-25 18:52:41,839 INFO sqlalchemy.engine.Engine [raw sql] ()\n",
      "2023-03-25 18:52:41,840 INFO sqlalchemy.engine.Engine ROLLBACK\n"
     ]
    }
   ],
   "source": [
    "# Push pandas df -> Temp DB\n",
    "data = df.to_sql(name='Sales', con=temp_db)"
   ],
   "metadata": {
    "collapsed": false
   }
  },
  {
   "cell_type": "code",
   "execution_count": 27,
   "outputs": [],
   "source": [
    "qry1 = 'SELECT * FROM Sales'\n",
    "qry2 = 'SELECT SUM(SALES) FROM Sales'"
   ],
   "metadata": {
    "collapsed": false
   }
  },
  {
   "cell_type": "code",
   "execution_count": 30,
   "outputs": [
    {
     "name": "stdout",
     "output_type": "stream",
     "text": [
      "2023-03-25 18:59:11,463 INFO sqlalchemy.engine.Engine BEGIN (implicit)\n",
      "2023-03-25 18:59:11,464 INFO sqlalchemy.engine.Engine SELECT SUM(SALES) FROM Sales\n",
      "2023-03-25 18:59:11,465 INFO sqlalchemy.engine.Engine [generated in 0.00262s] ()\n",
      "2023-03-25 18:59:11,467 INFO sqlalchemy.engine.Engine ROLLBACK\n"
     ]
    }
   ],
   "source": [
    "# SQL query on Temp DB\n",
    "with temp_db.connect() as conn:\n",
    "    # make the connection\n",
    "    # run code indentation/block\n",
    "    result = conn.execute(text(qry2))\n",
    "    # auto close connection"
   ],
   "metadata": {
    "collapsed": false
   }
  },
  {
   "cell_type": "code",
   "execution_count": 31,
   "outputs": [
    {
     "data": {
      "text/plain": "[(10032628.85000001,)]"
     },
     "execution_count": 31,
     "metadata": {},
     "output_type": "execute_result"
    }
   ],
   "source": [
    "result.all()"
   ],
   "metadata": {
    "collapsed": false
   }
  },
  {
   "cell_type": "markdown",
   "source": [
    "#### Natural Language Request"
   ],
   "metadata": {
    "collapsed": false
   }
  },
  {
   "cell_type": "markdown",
   "source": [
    "[Best practices](https://platform.openai.com/docs/guides/code/best-practices)\n",
    "[Examples - SQL Translate](https://platform.openai.com/examples/default-sql-translate)\n",
    "\n",
    "\\### Postgres SQL tables, with their properties:\n",
    "\\#\n",
    "\\# Employee(id, name, department_id)\n",
    "\\# Department(id, name, address)\n",
    "\\# Salary_Payments(id, employee_id, amount, date)\n",
    "\\#\n",
    "\\### A query to list the names of the departments which employed more than 10 employees in the last 3 months\n",
    "SELECT"
   ],
   "metadata": {
    "collapsed": false
   }
  },
  {
   "cell_type": "code",
   "execution_count": 36,
   "outputs": [],
   "source": [
    "# Used #s, to learn why look best practices and examples - SQL translate\n",
    "\n",
    "def create_table_definition(df):\n",
    "    prompt = f\"\"\"### sqlite SQL tables, with its properties:\n",
    "    #\n",
    "    # Sales({\",\".join(str(col) for col in df.columns)})\n",
    "    #\n",
    "    \"\"\"\n",
    "\n",
    "    return prompt"
   ],
   "metadata": {
    "collapsed": false
   }
  },
  {
   "cell_type": "code",
   "execution_count": 37,
   "outputs": [
    {
     "data": {
      "text/plain": "'ORDERNUMBER,QUANTITYORDERED,PRICEEACH,SALES,ORDERDATE,QTR_ID,MONTH_ID,YEAR_ID,PRODUCTLINE,PHONE,ADDRESSLINE1,CITY,STATE,POSTALCODE,COUNTRY,CONTACTLASTNAME,CONTACTFIRSTNAME'"
     },
     "execution_count": 37,
     "metadata": {},
     "output_type": "execute_result"
    }
   ],
   "source": [
    "\",\".join(str(col) for col in df.columns)"
   ],
   "metadata": {
    "collapsed": false
   }
  },
  {
   "cell_type": "code",
   "execution_count": 38,
   "outputs": [
    {
     "name": "stdout",
     "output_type": "stream",
     "text": [
      "### sqlite SQL tables, with its properties:\n",
      "    #\n",
      "    # Sales(ORDERNUMBER,QUANTITYORDERED,PRICEEACH,SALES,ORDERDATE,QTR_ID,MONTH_ID,YEAR_ID,PRODUCTLINE,PHONE,ADDRESSLINE1,CITY,STATE,POSTALCODE,COUNTRY,CONTACTLASTNAME,CONTACTFIRSTNAME)\n",
      "    #\n",
      "    \n"
     ]
    }
   ],
   "source": [
    "print(create_table_definition(df))"
   ],
   "metadata": {
    "collapsed": false
   }
  },
  {
   "cell_type": "code",
   "execution_count": 39,
   "outputs": [],
   "source": [
    "def prompt_input():\n",
    "    nlp_text = input('Enter the info you want:')\n",
    "    return nlp_text"
   ],
   "metadata": {
    "collapsed": false
   }
  },
  {
   "cell_type": "code",
   "execution_count": 40,
   "outputs": [
    {
     "data": {
      "text/plain": "'grab all sales per quarter'"
     },
     "execution_count": 40,
     "metadata": {},
     "output_type": "execute_result"
    }
   ],
   "source": [
    "prompt_input()"
   ],
   "metadata": {
    "collapsed": false
   }
  },
  {
   "cell_type": "code",
   "execution_count": 44,
   "outputs": [],
   "source": [
    "def combine_prompts(df, query_prompt):\n",
    "    definition = create_table_definition(df)\n",
    "    query_init_string = f'### A query to answer: {query_prompt}\\nSELECT'\n",
    "    return  definition+query_init_string"
   ],
   "metadata": {
    "collapsed": false
   }
  },
  {
   "cell_type": "code",
   "execution_count": 48,
   "outputs": [
    {
     "name": "stdout",
     "output_type": "stream",
     "text": [
      "### sqlite SQL tables, with its properties:\n",
      "    #\n",
      "    # Sales(ORDERNUMBER,QUANTITYORDERED,PRICEEACH,SALES,ORDERDATE,QTR_ID,MONTH_ID,YEAR_ID,PRODUCTLINE,PHONE,ADDRESSLINE1,CITY,STATE,POSTALCODE,COUNTRY,CONTACTLASTNAME,CONTACTFIRSTNAME)\n",
      "    #\n",
      "    ### A query to answer: return the sum of SALES per POSTALCODE\n",
      "SELECT\n"
     ]
    }
   ],
   "source": [
    "nlp_text = prompt_input()\n",
    "combine_prompts(df, nlp_text)"
   ],
   "metadata": {
    "collapsed": false
   }
  },
  {
   "cell_type": "markdown",
   "source": [
    "#### Text Completion API - Parameters Overview"
   ],
   "metadata": {
    "collapsed": false
   }
  },
  {
   "cell_type": "markdown",
   "source": [
    "[Details of every model](https://platform.openai.com/docs/model-index-for-researchers)\n",
    "[Models](https://platform.openai.com/docs/models)\n",
    "\n",
    "**OpenAI Completion Call Parameters**\n",
    "\n",
    "**Model**\n",
    "When trying to decide on a model, consider the following:\n",
    "- Your cost and how often you will call the model.\n",
    "- How many tokens you will pass to the model.\n",
    "- The importance of accuracy in the results received from the model.\n",
    "\n",
    "**Prompt**\n",
    "- More than anything, this is by far the most important parameter you will use, as it basically dictates what the model will return as it attempts to complete your text.\n",
    "- This is also the hardest to get correct, as it usually takes some experimentation.\n",
    "\n",
    "Advice:\n",
    "- Take advantage of the “playground” OpenAI provides to understand how changing the prompt can affect output.\n",
    "- Always do a Google search to see if anyone has “discovered” good initial prompts based on what you are trying to build.\n",
    "\n",
    "\n",
    "**Temperature**\n",
    "- Higher values means the model will take more risks.\n",
    "- Try 0.9 for more creative applications, and 0 (argmax sampling) for ones with a well-defined answer.\n",
    "- In the case of simpler tasks with a clear correct answer, you will want to lean more towards 0.\n",
    "\n",
    "**Max Tokens**\n",
    "- The maximum number of tokens to generate in the completion.\n",
    "- The token count of your prompt plus max_tokens cannot exceed the model's context length.\n",
    "- Most models have a context length of 2048 tokens (except for the newest models, which support 4096).\n",
    "\n",
    "**Top P**\n",
    "- An alternative to sampling with temperature, called nucleus sampling, where the model considers the results of the tokens with top_p probability mass. So 0.1 means only the tokens comprising the top 10% probability mass are considered.\n",
    "- Alter Top P or Temperature but <strong>not both</strong>.\n",
    "\n",
    "**N**\n",
    "- How many completions to generate for each prompt.\n",
    "- Keep in mind that this is essentially the same thing as running the same prompt multiple times, so this could consume your token quota quickly, which costs money!\n",
    "- We will pretty much always set this to 1, indicating we only want 1 completion.\n",
    "\n",
    "**Frequency Penalty**\n",
    "- Number between -2.0 and 2.0.\n",
    "- Positive values penalize new tokens based on their existing frequency in the text so far, decreasing the model's likelihood to repeat the same line verbatim.\n",
    "\n",
    "**Presence Penalty**\n",
    "- Number between -2.0 and 2.0.\n",
    "- Positive values penalize new tokens based on whether they appear in the text so far, increasing the model's likelihood to talk about new topics.\n",
    "\n",
    "**Presence and Frequency Penalties**\n",
    "- The presence penalty is a one-off additive contribution that applies to all tokens that have been sampled at least once and the frequency penalty is a contribution that is proportional to how often a particular token has already been sampled.\n",
    "- Reasonable values for the penalty coefficients are around 0.1 to 1 if the aim is to just reduce repetitive samples somewhat.\n",
    "- If the aim is to strongly suppress repetition, then one can increase the coefficients up to 2, but this can noticeably degrade the quality of samples.\n",
    "- Negative values can be used to increase the likelihood of repetition.\n",
    "- Depending on your use case, you may need to play around with these values to achieve the right balance.\n",
    "- Full information on the formula these parameters are a part of: [Link](https://platform.openai.com/docs/api-reference/parameter-details)"
   ],
   "metadata": {
    "collapsed": false
   }
  },
  {
   "cell_type": "markdown",
   "source": [
    "#### Open AI Call and Request Handling"
   ],
   "metadata": {
    "collapsed": false
   }
  },
  {
   "cell_type": "code",
   "execution_count": 63,
   "outputs": [],
   "source": [
    "openai.api_key_path = os.path.abspath(os.path.join(os.getcwd(), os.pardir, 'openai-api-key.txt'))"
   ],
   "metadata": {
    "collapsed": false
   }
  },
  {
   "cell_type": "code",
   "execution_count": 65,
   "outputs": [],
   "source": [
    "response = openai.Completion.create(\n",
    "    model='text-davinci-003',\n",
    "    prompt=combine_prompts(df, nlp_text),\n",
    "    temperature=0,\n",
    "    max_tokens=150,\n",
    "    top_p=1.0,\n",
    "    frequency_penalty=0,\n",
    "    presence_penalty=0,\n",
    "    stop=['#',';']\n",
    ")"
   ],
   "metadata": {
    "collapsed": false
   }
  },
  {
   "cell_type": "code",
   "execution_count": 72,
   "outputs": [
    {
     "name": "stdout",
     "output_type": "stream",
     "text": [
      " POSTALCODE, SUM(SALES)\n",
      "FROM Sales\n",
      "GROUP BY POSTALCODE\n"
     ]
    }
   ],
   "source": [
    "print(response['choices'][0]['text'])"
   ],
   "metadata": {
    "collapsed": false
   }
  },
  {
   "cell_type": "code",
   "execution_count": 73,
   "outputs": [],
   "source": [
    "def handle_response(response):\n",
    "    query = response['choices'][0]['text']\n",
    "    return \"SELECT\"+query if query.startswith(\" \") else query"
   ],
   "metadata": {
    "collapsed": false
   }
  },
  {
   "cell_type": "code",
   "execution_count": 75,
   "outputs": [
    {
     "name": "stdout",
     "output_type": "stream",
     "text": [
      "SELECT POSTALCODE, SUM(SALES)\n",
      "FROM Sales\n",
      "GROUP BY POSTALCODE\n"
     ]
    }
   ],
   "source": [
    "print(handle_response(response))"
   ],
   "metadata": {
    "collapsed": false
   }
  },
  {
   "cell_type": "code",
   "execution_count": 76,
   "outputs": [
    {
     "name": "stdout",
     "output_type": "stream",
     "text": [
      "2023-03-25 20:44:27,081 INFO sqlalchemy.engine.Engine BEGIN (implicit)\n",
      "2023-03-25 20:44:27,083 INFO sqlalchemy.engine.Engine SELECT POSTALCODE, SUM(SALES)\n",
      "FROM Sales\n",
      "GROUP BY POSTALCODE\n",
      "2023-03-25 20:44:27,085 INFO sqlalchemy.engine.Engine [generated in 0.00388s] ()\n",
      "2023-03-25 20:44:27,089 INFO sqlalchemy.engine.Engine ROLLBACK\n"
     ]
    }
   ],
   "source": [
    "with temp_db.connect() as conn:\n",
    "    result = conn.execute(text(handle_response(response)))"
   ],
   "metadata": {
    "collapsed": false
   }
  },
  {
   "cell_type": "code",
   "execution_count": 77,
   "outputs": [
    {
     "data": {
      "text/plain": "[(None, 272407.14),\n ('10022', 560787.7699999998),\n ('10100', 94117.26000000002),\n ('106-0032', 120562.73999999996),\n ('1203', 117713.55999999998),\n ('1227 MM', 94015.73),\n ('13008', 74936.14),\n ('1734', 145041.6),\n ('2', 57756.43),\n ('2060', 153996.13000000003),\n ('2067', 151570.98000000004),\n ('21240', 111250.37999999996),\n ('24067', 85555.98999999998),\n ('24100', 137955.72000000003),\n ('28023', 170257.33000000005),\n ('28034', 912294.1100000002),\n ('3004', 200995.40999999997),\n ('31000', 70488.44),\n ('3150', 64591.46000000001),\n ('4101', 59469.11999999999),\n ('4110', 116599.19),\n ('41101', 54723.62),\n ('42100', 142601.33000000002),\n ('44000', 204304.86),\n ('5020', 149798.63),\n ('50553', 207874.86),\n ('50739', 100306.58),\n ('51003', 154069.65999999997),\n ('51100', 135042.94),\n ('51247', 139243.99999999994),\n ('530-0003', 67605.07),\n ('58339', 165255.20000000004),\n ('59000', 69052.41),\n ('60528', 85171.58999999998),\n ('62005', 131685.30000000002),\n ('67000', 80438.48),\n ('69004', 142874.25000000003),\n ('69045', 115498.73000000001),\n ('70267', 122138.14000000001),\n ('71270', 151189.12999999998),\n ('75012', 97203.68000000001),\n ('75016', 93170.65999999999),\n ('75508', 78570.34000000001),\n ('78000', 64834.32000000001),\n ('79903', 172989.68000000008),\n ('8010', 52263.899999999994),\n ('8022', 78411.86000000002),\n ('80686', 34993.92),\n ('8200', 100595.54999999999),\n ('83030', 82751.08000000002),\n ('90003', 104561.95999999998),\n ('90110', 104370.38),\n ('91217', 87489.22999999998),\n ('92561', 9129.349999999999),\n ('94019', 129312.82999999999),\n ('94217', 331011.8500000001),\n ('97561', 57294.420000000006),\n ('97562', 756752.8500000003),\n ('97823', 79472.07),\n ('B-1180', 74972.52),\n ('B-6000', 33440.1),\n ('EC2 5NT', 157807.80999999997),\n ('FIN-02271', 113961.14999999997),\n ('H1J 1C3', 74204.79),\n ('N 0106', 79224.23),\n ('N 5804', 111640.28),\n ('PO31 7PJ', 78240.83999999998),\n ('S-844 67', 134259.33000000002),\n ('S-958 22', 75754.88),\n ('T2F 8M4', 74634.84999999999),\n ('V3F 2K1', 75238.92),\n ('WA1 1DP', 36019.04),\n ('WX1 6LT', 118008.26999999999),\n ('WX3 6FW', 88804.5)]"
     },
     "execution_count": 77,
     "metadata": {},
     "output_type": "execute_result"
    }
   ],
   "source": [
    "result.all()"
   ],
   "metadata": {
    "collapsed": false
   }
  }
 ],
 "metadata": {
  "kernelspec": {
   "display_name": "Python 3",
   "language": "python",
   "name": "python3"
  },
  "language_info": {
   "codemirror_mode": {
    "name": "ipython",
    "version": 2
   },
   "file_extension": ".py",
   "mimetype": "text/x-python",
   "name": "python",
   "nbconvert_exporter": "python",
   "pygments_lexer": "ipython2",
   "version": "2.7.6"
  }
 },
 "nbformat": 4,
 "nbformat_minor": 0
}
