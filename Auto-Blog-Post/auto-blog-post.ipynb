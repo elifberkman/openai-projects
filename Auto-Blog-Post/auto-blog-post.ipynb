{
 "cells": [
  {
   "cell_type": "markdown",
   "source": [
    "# AUTO BLOG POST"
   ],
   "metadata": {
    "collapsed": false
   }
  },
  {
   "cell_type": "markdown",
   "source": [
    "This project will focus on an example of integrating OpenAI APIs to something that lives on the web. In this example, we’ll explore using OpenAI in conjunction with GitHub Pages to automatically generate blog posts live on the web!"
   ],
   "metadata": {
    "collapsed": false
   }
  },
  {
   "cell_type": "markdown",
   "source": [
    "#### Steps:\n",
    "- Create GitHub Pages Repository\n",
    "- Create automatic update functions in Python to publish to GitHub\n",
    "- Use OpenAI to generate blog post and blog image\n",
    "- Integrate OpenAI results to the automatic update functions"
   ],
   "metadata": {
    "collapsed": false
   }
  },
  {
   "cell_type": "markdown",
   "source": [
    "#### Import Libraries"
   ],
   "metadata": {
    "collapsed": false
   }
  },
  {
   "cell_type": "code",
   "execution_count": 1,
   "outputs": [],
   "source": [
    "import os\n",
    "import openai\n",
    "from git import Repo  # pip install GitPython\n",
    "from pathlib import Path\n",
    "\n",
    "PATH_TO_BLOG_REPO = Path('D:\\\\Projects\\\\PyCharm\\\\elifberkman.github.io\\\\.git')\n",
    "PATH_TO_BLOG = PATH_TO_BLOG_REPO.parent\n",
    "PATH_TO_CONTENT =PATH_TO_BLOG/\"content\""
   ],
   "metadata": {
    "collapsed": false
   }
  },
  {
   "cell_type": "code",
   "execution_count": 2,
   "outputs": [],
   "source": [
    "PATH_TO_CONTENT.mkdir(exist_ok=True, parents=True)"
   ],
   "metadata": {
    "collapsed": false
   }
  },
  {
   "cell_type": "markdown",
   "source": [
    "#### Get OpenAI API Key"
   ],
   "metadata": {
    "collapsed": false
   }
  },
  {
   "cell_type": "code",
   "execution_count": 3,
   "outputs": [],
   "source": [
    "openai.api_key_path = os.path.abspath(os.path.join(os.getcwd(), os.pardir, 'openai-api-key.txt'))"
   ],
   "metadata": {
    "collapsed": false
   }
  },
  {
   "cell_type": "markdown",
   "source": [
    "#### Create GitHub Pages Repository"
   ],
   "metadata": {
    "collapsed": false
   }
  },
  {
   "cell_type": "markdown",
   "source": [
    "- Create a new public repository on github named username.github.io, where username is github username.\n",
    "- Clone the repository\n",
    "- Create a new file called index.html\n",
    "- Add some content to index.html\n",
    "- Push your changes\n",
    "- Go to https://username.github.io"
   ],
   "metadata": {
    "collapsed": false
   }
  },
  {
   "cell_type": "markdown",
   "source": [
    "**ChatGPT Explanation about github.io:**\n",
    "\n",
    "**My promt:** Tell me how people generally use github.io in their github repositories\n",
    "\n",
    "**Answer**\n",
    "\n",
    "GitHub.io is a platform provided by GitHub that allows users to create websites and web pages for free, using content from their GitHub repositories. The main purpose of using GitHub.io is to publish static websites and web pages that can be accessed through a specific domain name.\n",
    "\n",
    "Here are some ways people generally use GitHub.io in their GitHub repositories:\n",
    "\n",
    "- **Personal websites:** Many users create their personal websites or blogs using GitHub.io. They can customize the website's design and content using HTML, CSS, and JavaScript.\n",
    "\n",
    "- **Project websites:** GitHub.io can be used to host websites related to a specific project. For example, if you have developed a software library, you can create a website to showcase its features and documentation.\n",
    "\n",
    "- **Portfolio:** GitHub.io can be used to create an online portfolio showcasing your work, skills, and projects.\n",
    "\n",
    "- **Documentation:** If you have developed a software product, you can use GitHub.io to host its documentation.\n",
    "\n",
    "- **Presentations:** You can create interactive presentations using tools like reveal.js and host them on GitHub.io.\n",
    "\n",
    "To create a GitHub.io page, you need to create a new repository on GitHub with the name \"username.github.io\", where \"username\" is your GitHub username. You can then add HTML, CSS, and JavaScript files to the repository and publish your website by accessing it through the domain name \"username.github.io\"."
   ],
   "metadata": {
    "collapsed": false
   }
  },
  {
   "cell_type": "markdown",
   "source": [
    "#### Create automatic update functions in Python to publish to GitHub"
   ],
   "metadata": {
    "collapsed": false
   }
  },
  {
   "cell_type": "markdown",
   "source": [
    "- We will create functions that can automatically update files in your GitHub Pages repository, and then push those changes to GitHub.\n",
    "- This will enable us to automatically push new posts with just a few function calls.\n",
    "- Our functions will have placeholders for blog text and a blog image.\n",
    "- We’ll have OpenAI generate that text and image for us!\n",
    "- We’ll be using the GitPython library to automate, git add, git commit, and git push inside our Python code."
   ],
   "metadata": {
    "collapsed": false
   }
  },
  {
   "cell_type": "code",
   "execution_count": 4,
   "outputs": [],
   "source": [
    "def update_blog(commit_message='Updates blog'):\n",
    "    # GitPython -- Repo Location\n",
    "    repo = Repo(PATH_TO_BLOG_REPO)\n",
    "    # git add .\n",
    "    repo.git.add(all=True)\n",
    "    # git commit -m \"updates blog\"\n",
    "    repo.index.commit(commit_message)\n",
    "    # git push\n",
    "    origin = repo.remote(name='origin')\n",
    "    origin.push()"
   ],
   "metadata": {
    "collapsed": false
   }
  },
  {
   "cell_type": "code",
   "execution_count": 5,
   "outputs": [],
   "source": [
    "random_text_string = \"<p>Lorem ipsum dolor sit amet, consectetur adipiscing elit. Cras vitae ipsum vitae velit finibus feugiat. Mauris lacinia nunc sed massa viverra, lacinia sollicitudin dolor sollicitudin. Class aptent taciti sociosqu ad litora torquent per conubia nostra, per inceptos himenaeos. Mauris consequat urna id lectus vestibulum ullamcorper. Vestibulum a cursus quam. Aenean vitae pulvinar libero, vel semper velit. Aenean ac neque eleifend, pretium velit in, tristique dolor. Sed maximus auctor maximus. Pellentesque porttitor justo eros, in feugiat sem venenatis nec. Proin mattis tortor ac aliquam vehicula.</p>\""
   ],
   "metadata": {
    "collapsed": false
   }
  },
  {
   "cell_type": "code",
   "execution_count": 26,
   "outputs": [
    {
     "name": "stdout",
     "output_type": "stream",
     "text": [
      "<!DOCTYPE html>\n",
      "<html lang=\"en\">\n",
      "\t<head>\n",
      "\t\t<meta charset=\"UTF-8\">\n",
      "\t\t<meta name=\"viewport\" content=\"width=device-width, initial-scale=1.0\">\n",
      "\t\t<title>Under Construction</title>\n",
      "\t\t<style>\n",
      "\t\t\tbody {\n",
      "\t\t\t\tbackground-color: #f2f2f2;\n",
      "\t\t\t\tfont-family: Arial, sans-serif;\n",
      "\t\t\t\ttext-align: center;\n",
      "\t\t\t\tmargin: 0;\n",
      "\t\t\t\tpadding: 0;\n",
      "\t\t\t}\n",
      "\n",
      "\t\t\th1 {\n",
      "\t\t\t\tfont-size: 48px;\n",
      "\t\t\t\tcolor: #333;\n",
      "\t\t\t\tmargin-top: 50px;\n",
      "\t\t\t}\n",
      "\n",
      "\t\t\th2 {\n",
      "\t\t\t\tfont-size: 36px;\n",
      "\t\t\t\tcolor: #333;\n",
      "\t\t\t\tmargin-top: 50px;\n",
      "\t\t\t}\n",
      "\n",
      "\t\t\tp {\n",
      "\t\t\t\tfont-size: 24px;\n",
      "\t\t\t\tcolor: #666;\n",
      "\t\t\t\tmargin-top: 20px;\n",
      "\t\t\t}\n",
      "\n",
      "\t\t\timg {\n",
      "\t\t\t\tmargin-top: 50px;\n",
      "\t\t\t\tmax-width: 100%;\n",
      "\t\t\t\theight: auto;\n",
      "\t\t\t}\n",
      "\n",
      "\t\t</style>\n",
      "\t</head>\n",
      "\t<body>\n",
      "\t\t<div class=\"container\">\n",
      "\t\t\t<h1>Kudret Elif BERKMAN</h1>\n",
      "\t\t\t<h2>My Personal Website is Under Construction</h2>\n",
      "\t\t\t<p>Please check back soon for updates.</p>\n",
      "\t\t\t<img src=\"images/under_construct.jpg\" alt=\"Under Construction\">\n",
      "\t\t</div>\n",
      "\t</body>\n",
      "</html>\n"
     ]
    }
   ],
   "source": [
    "with open(PATH_TO_BLOG/\"index.html\", \"r\") as f:\n",
    "    html_file = f.read()\n",
    "\n",
    "print(html_file)"
   ],
   "metadata": {
    "collapsed": false
   }
  },
  {
   "cell_type": "code",
   "execution_count": 27,
   "outputs": [
    {
     "name": "stdout",
     "output_type": "stream",
     "text": [
      "<!DOCTYPE html>\n",
      "<html lang=\"en\">\n",
      "\t<head>\n",
      "\t\t<meta charset=\"UTF-8\">\n",
      "\t\t<meta name=\"viewport\" content=\"width=device-width, initial-scale=1.0\">\n",
      "\t\t<title>Under Construction</title>\n",
      "\t\t<style>\n",
      "\t\t\tbody {\n",
      "\t\t\t\tbackground-color: #f2f2f2;\n",
      "\t\t\t\tfont-family: Arial, sans-serif;\n",
      "\t\t\t\ttext-align: center;\n",
      "\t\t\t\tmargin: 0;\n",
      "\t\t\t\tpadding: 0;\n",
      "\t\t\t}\n",
      "\n",
      "\t\t\th1 {\n",
      "\t\t\t\tfont-size: 48px;\n",
      "\t\t\t\tcolor: #333;\n",
      "\t\t\t\tmargin-top: 50px;\n",
      "\t\t\t}\n",
      "\n",
      "\t\t\th2 {\n",
      "\t\t\t\tfont-size: 36px;\n",
      "\t\t\t\tcolor: #333;\n",
      "\t\t\t\tmargin-top: 50px;\n",
      "\t\t\t}\n",
      "\n",
      "\t\t\tp {\n",
      "\t\t\t\tfont-size: 24px;\n",
      "\t\t\t\tcolor: #666;\n",
      "\t\t\t\tmargin-top: 20px;\n",
      "\t\t\t}\n",
      "\n",
      "\t\t\timg {\n",
      "\t\t\t\tmargin-top: 50px;\n",
      "\t\t\t\tmax-width: 100%;\n",
      "\t\t\t\theight: auto;\n",
      "\t\t\t}\n",
      "\n",
      "\t\t</style>\n",
      "\t</head>\n",
      "\t<body>\n",
      "\t\t<div class=\"container\">\n",
      "\t\t\t<h1>Kudret Elif BERKMAN</h1>\n",
      "\t\t\t<h2>My Personal Website is Under Construction</h2>\n",
      "\t\t\t<p>Please check back soon for updates.</p>\n",
      "\t\t\t<img src=\"images/under_construct.jpg\" alt=\"Under Construction\">\n",
      "\t\t</div>\n",
      "\t\t<p>Lorem ipsum dolor sit amet, consectetur adipiscing elit. Cras vitae ipsum vitae velit finibus feugiat. Mauris lacinia nunc sed massa viverra, lacinia sollicitudin dolor sollicitudin. Class aptent taciti sociosqu ad litora torquent per conubia nostra, per inceptos himenaeos. Mauris consequat urna id lectus vestibulum ullamcorper. Vestibulum a cursus quam. Aenean vitae pulvinar libero, vel semper velit. Aenean ac neque eleifend, pretium velit in, tristique dolor. Sed maximus auctor maximus. Pellentesque porttitor justo eros, in feugiat sem venenatis nec. Proin mattis tortor ac aliquam vehicula.</p>\n",
      "\t</body>\n",
      "</html>\n"
     ]
    }
   ],
   "source": [
    "with open(PATH_TO_BLOG/\"index.html\", \"w\") as f:\n",
    "    updated_html_file = html_file.split('</body>\\n</html>')[0] + '\\t' + random_text_string + '\\n\\t</body>\\n</html>'\n",
    "    f.write(updated_html_file)\n",
    "\n",
    "print(updated_html_file)"
   ],
   "metadata": {
    "collapsed": false
   }
  },
  {
   "cell_type": "code",
   "execution_count": 28,
   "outputs": [],
   "source": [
    "update_blog()"
   ],
   "metadata": {
    "collapsed": false
   }
  },
  {
   "cell_type": "markdown",
   "source": [
    "#### Use OpenAI to generate blog post and blog image"
   ],
   "metadata": {
    "collapsed": false
   }
  },
  {
   "cell_type": "code",
   "execution_count": null,
   "outputs": [],
   "source": [
    "def create_new_blog"
   ],
   "metadata": {
    "collapsed": false
   }
  },
  {
   "cell_type": "code",
   "execution_count": null,
   "outputs": [],
   "source": [],
   "metadata": {
    "collapsed": false
   }
  },
  {
   "cell_type": "code",
   "execution_count": null,
   "outputs": [],
   "source": [],
   "metadata": {
    "collapsed": false
   }
  },
  {
   "cell_type": "markdown",
   "source": [
    "#### Integrate OpenAI results to the automatic update functions"
   ],
   "metadata": {
    "collapsed": false
   }
  },
  {
   "cell_type": "code",
   "execution_count": null,
   "outputs": [],
   "source": [],
   "metadata": {
    "collapsed": false
   }
  }
 ],
 "metadata": {
  "kernelspec": {
   "display_name": "Python 3",
   "language": "python",
   "name": "python3"
  },
  "language_info": {
   "codemirror_mode": {
    "name": "ipython",
    "version": 2
   },
   "file_extension": ".py",
   "mimetype": "text/x-python",
   "name": "python",
   "nbconvert_exporter": "python",
   "pygments_lexer": "ipython2",
   "version": "2.7.6"
  }
 },
 "nbformat": 4,
 "nbformat_minor": 0
}
