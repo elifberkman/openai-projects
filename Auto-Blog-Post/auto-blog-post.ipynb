{
 "cells": [
  {
   "cell_type": "markdown",
   "source": [
    "# AUTO BLOG POST"
   ],
   "metadata": {
    "collapsed": false
   }
  },
  {
   "cell_type": "markdown",
   "source": [
    "This project will focus on an example of integrating OpenAI APIs to something that lives on the web. In this example, we’ll explore using OpenAI in conjunction with GitHub Pages to automatically generate blog posts live on the web!"
   ],
   "metadata": {
    "collapsed": false
   }
  },
  {
   "cell_type": "markdown",
   "source": [
    "#### Steps:\n",
    "- Create GitHub Pages Repository\n",
    "- Create automatic update functions in Python to publish to GitHub\n",
    "- Use OpenAI to generate blog post and blog image\n",
    "- Integrate OpenAI results to the automatic update functions"
   ],
   "metadata": {
    "collapsed": false
   }
  },
  {
   "cell_type": "markdown",
   "source": [
    "#### Create GitHub Pages Repository"
   ],
   "metadata": {
    "collapsed": false
   }
  },
  {
   "cell_type": "markdown",
   "source": [
    "- Create a new public repository on github named username.github.io, where username is github username.\n",
    "- Clone the repository\n",
    "- Create a new file called index.html\n",
    "- Add some content to index.html\n",
    "- Push your changes\n",
    "- Go to https://username.github.io"
   ],
   "metadata": {
    "collapsed": false
   }
  },
  {
   "cell_type": "markdown",
   "source": [
    "**ChatGPT Explanation about github.io:**\n",
    "\n",
    "**My promt:** Tell me how people generally use github.io in their github repositories\n",
    "\n",
    "**Answer**\n",
    "\n",
    "GitHub.io is a platform provided by GitHub that allows users to create websites and web pages for free, using content from their GitHub repositories. The main purpose of using GitHub.io is to publish static websites and web pages that can be accessed through a specific domain name.\n",
    "\n",
    "Here are some ways people generally use GitHub.io in their GitHub repositories:\n",
    "\n",
    "- **Personal websites:** Many users create their personal websites or blogs using GitHub.io. They can customize the website's design and content using HTML, CSS, and JavaScript.\n",
    "\n",
    "- **Project websites:** GitHub.io can be used to host websites related to a specific project. For example, if you have developed a software library, you can create a website to showcase its features and documentation.\n",
    "\n",
    "- **Portfolio:** GitHub.io can be used to create an online portfolio showcasing your work, skills, and projects.\n",
    "\n",
    "- **Documentation:** If you have developed a software product, you can use GitHub.io to host its documentation.\n",
    "\n",
    "- **Presentations:** You can create interactive presentations using tools like reveal.js and host them on GitHub.io.\n",
    "\n",
    "To create a GitHub.io page, you need to create a new repository on GitHub with the name \"username.github.io\", where \"username\" is your GitHub username. You can then add HTML, CSS, and JavaScript files to the repository and publish your website by accessing it through the domain name \"username.github.io\"."
   ],
   "metadata": {
    "collapsed": false
   }
  },
  {
   "cell_type": "markdown",
   "source": [
    "#### Import Libraries"
   ],
   "metadata": {
    "collapsed": false
   }
  },
  {
   "cell_type": "code",
   "execution_count": null,
   "outputs": [],
   "source": [
    "import os\n",
    "import openai"
   ],
   "metadata": {
    "collapsed": false
   }
  },
  {
   "cell_type": "markdown",
   "source": [
    "#### Get OpenAI API Key"
   ],
   "metadata": {
    "collapsed": false
   }
  },
  {
   "cell_type": "code",
   "execution_count": null,
   "outputs": [],
   "source": [
    "openai.api_key_path = os.path.abspath(os.path.join(os.getcwd(), os.pardir, 'openai-api-key.txt'))"
   ],
   "metadata": {
    "collapsed": false
   }
  },
  {
   "cell_type": "markdown",
   "source": [
    "#### Create automatic update functions in Python to publish to GitHub"
   ],
   "metadata": {
    "collapsed": false
   }
  },
  {
   "cell_type": "markdown",
   "source": [
    "- We will create functions that can automatically update files in your GitHub Pages repository, and then push those changes to GitHub.\n",
    "- This will enable us to automatically push new posts with just a few function calls.\n",
    "- Our functions will have placeholders for blog text and a blog image.\n",
    "- We’ll have OpenAI generate that text and image for us!\n",
    "- We’ll be using the GitPython library to automate, git add, git commit, and git push inside our Python code."
   ],
   "metadata": {
    "collapsed": false
   }
  },
  {
   "cell_type": "code",
   "execution_count": null,
   "outputs": [],
   "source": [],
   "metadata": {
    "collapsed": false
   }
  }
 ],
 "metadata": {
  "kernelspec": {
   "display_name": "Python 3",
   "language": "python",
   "name": "python3"
  },
  "language_info": {
   "codemirror_mode": {
    "name": "ipython",
    "version": 2
   },
   "file_extension": ".py",
   "mimetype": "text/x-python",
   "name": "python",
   "nbconvert_exporter": "python",
   "pygments_lexer": "ipython2",
   "version": "2.7.6"
  }
 },
 "nbformat": 4,
 "nbformat_minor": 0
}
