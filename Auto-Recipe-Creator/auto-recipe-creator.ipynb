{
 "cells": [
  {
   "cell_type": "markdown",
   "source": [
    "# AUTO RECIPE CREATOR"
   ],
   "metadata": {
    "collapsed": false
   }
  },
  {
   "cell_type": "markdown",
   "source": [
    "In this project, we’ll have the Completion API create a recipe for a dish from a list of given ingredients.\n",
    "Then we’ll take the dish name and send it to the Image API (DALLE-2) in order to create a generated image of the dish generated from the recipe."
   ],
   "metadata": {
    "collapsed": false
   }
  },
  {
   "cell_type": "markdown",
   "source": [
    "#### Import Libraries"
   ],
   "metadata": {
    "collapsed": false
   }
  },
  {
   "cell_type": "code",
   "execution_count": 25,
   "outputs": [],
   "source": [
    "import os\n",
    "import openai\n",
    "import re\n",
    "import requests\n",
    "import shutil"
   ],
   "metadata": {
    "collapsed": false
   }
  },
  {
   "cell_type": "markdown",
   "source": [
    "#### Get OpenAI API Key"
   ],
   "metadata": {
    "collapsed": false
   }
  },
  {
   "cell_type": "code",
   "execution_count": 4,
   "outputs": [],
   "source": [
    "openai.api_key_path = os.path.abspath(os.path.join(os.getcwd(), os.pardir, 'openai-api-key.txt'))"
   ],
   "metadata": {
    "collapsed": false
   }
  },
  {
   "cell_type": "markdown",
   "source": [
    "#### Create a Prompt"
   ],
   "metadata": {
    "collapsed": false
   }
  },
  {
   "cell_type": "code",
   "execution_count": 1,
   "outputs": [],
   "source": [
    "i = ['eggs', 'bacon', 'bread']"
   ],
   "metadata": {
    "collapsed": false
   }
  },
  {
   "cell_type": "code",
   "execution_count": 2,
   "outputs": [
    {
     "data": {
      "text/plain": "'eggs, bacon, bread'"
     },
     "execution_count": 2,
     "metadata": {},
     "output_type": "execute_result"
    }
   ],
   "source": [
    "', '.join(i)"
   ],
   "metadata": {
    "collapsed": false
   }
  },
  {
   "cell_type": "code",
   "execution_count": 7,
   "outputs": [],
   "source": [
    "def create_dish_prompt(list_of_ingeridents):\n",
    "    prompt = f\"Create a detailed recipe based on only the following ingredients: {', '.join(list_of_ingeridents)}.\\n\"\\\n",
    "    + f\"Additionally, assign a title starting with 'Recipe Title: ' to this recipe.\"\n",
    "    return prompt"
   ],
   "metadata": {
    "collapsed": false
   }
  },
  {
   "cell_type": "code",
   "execution_count": 9,
   "outputs": [
    {
     "data": {
      "text/plain": "\"Create a detailed recipe based on only the following ingredients: ham, turkey, eggs, bread.\\nAdditionally, assign a title starting with 'Recipe Title: ' to this recipe.\""
     },
     "execution_count": 9,
     "metadata": {},
     "output_type": "execute_result"
    }
   ],
   "source": [
    "ask_recipe = create_dish_prompt(['ham', 'turkey', 'eggs', 'bread'])\n",
    "ask_recipe"
   ],
   "metadata": {
    "collapsed": false
   }
  },
  {
   "cell_type": "code",
   "execution_count": 10,
   "outputs": [],
   "source": [
    "response = openai.Completion.create(\n",
    "    engine='text-davinci-003',\n",
    "    prompt=ask_recipe,\n",
    "    max_tokens=512,\n",
    "    temperature=0.7\n",
    ")"
   ],
   "metadata": {
    "collapsed": false
   }
  },
  {
   "cell_type": "code",
   "execution_count": 13,
   "outputs": [
    {
     "name": "stdout",
     "output_type": "stream",
     "text": [
      "\n",
      "\n",
      "Recipe Title: Ham and Turkey Egg Sandwich\n",
      "\n",
      "Ingredients: \n",
      "- 2 slices of bread\n",
      "- 2 slices of ham\n",
      "- 2 slices of turkey\n",
      "- 2 eggs\n",
      "\n",
      "Instructions:\n",
      "1. Preheat a medium-sized skillet over medium heat.\n",
      "2. Place a slice of ham and a slice of turkey on each slice of bread.\n",
      "3. Crack two eggs into the skillet and cook until desired doneness, turning once.\n",
      "4. Place the cooked eggs on top of the ham and turkey on one of the slices of bread.\n",
      "5. Top with the other slice of bread.\n",
      "6. Serve and enjoy!\n"
     ]
    }
   ],
   "source": [
    "result_recipe = response[\"choices\"][0][\"text\"]\n",
    "print(result_recipe)"
   ],
   "metadata": {
    "collapsed": false
   }
  },
  {
   "cell_type": "code",
   "execution_count": 14,
   "outputs": [
    {
     "data": {
      "text/plain": "['\\n\\n',\n 'Ham and Turkey Egg Sandwich\\n\\nIngredients: \\n- 2 slices of bread\\n- 2 slices of ham\\n- 2 slices of turkey\\n- 2 eggs\\n\\nInstructions:\\n1. Preheat a medium-sized skillet over medium heat.\\n2. Place a slice of ham and a slice of turkey on each slice of bread.\\n3. Crack two eggs into the skillet and cook until desired doneness, turning once.\\n4. Place the cooked eggs on top of the ham and turkey on one of the slices of bread.\\n5. Top with the other slice of bread.\\n6. Serve and enjoy!']"
     },
     "execution_count": 14,
     "metadata": {},
     "output_type": "execute_result"
    }
   ],
   "source": [
    "result_recipe.split(\"Recipe Title: \")"
   ],
   "metadata": {
    "collapsed": false
   }
  },
  {
   "cell_type": "code",
   "execution_count": 19,
   "outputs": [],
   "source": [
    "def extract_title(recipe):\n",
    "    return re.findall('^.*Recipe Title: .*$', recipe, re.MULTILINE)[0].strip().split('Recipe Title: ')[-1]"
   ],
   "metadata": {
    "collapsed": false
   }
  },
  {
   "cell_type": "code",
   "execution_count": 31,
   "outputs": [
    {
     "data": {
      "text/plain": "'Ham and Turkey Egg Sandwich'"
     },
     "execution_count": 31,
     "metadata": {},
     "output_type": "execute_result"
    }
   ],
   "source": [
    "recipe_title = extract_title(result_recipe)\n",
    "recipe_title"
   ],
   "metadata": {
    "collapsed": false
   }
  },
  {
   "cell_type": "markdown",
   "source": [
    "#### Image API (DALLE)"
   ],
   "metadata": {
    "collapsed": false
   }
  },
  {
   "cell_type": "markdown",
   "source": [
    "The image API simply takes in a text prompt and returns an image that will match what is in the text prompt.\n",
    "\n",
    "Parameters:\n",
    "\n",
    "<b>Image Sizes:</b> You can request the following size images:\n",
    "- 256x256\n",
    "- 512x512\n",
    "- 1024x1024\n",
    "\n",
    "<b>N:</b> You can request between 1-10 images via the Image API call.\n",
    "\n",
    "<b>Image Variations</b>\n",
    "Instead of a text prompt, you can request for variations on an existing image\n",
    "- prompt = “dog and cat”\n",
    "- image = open(“pic.png”, ’rb’)\n",
    "\n"
   ],
   "metadata": {
    "collapsed": false
   }
  },
  {
   "cell_type": "code",
   "execution_count": 32,
   "outputs": [],
   "source": [
    "def dalle2_prompt(recipe_title):\n",
    "    prompt = f\"{recipe_title}, professional food photography, 15mm, studio lighting\"\n",
    "    return prompt"
   ],
   "metadata": {
    "collapsed": false
   }
  },
  {
   "cell_type": "code",
   "execution_count": 34,
   "outputs": [
    {
     "data": {
      "text/plain": "'Ham and Turkey Egg Sandwich, professional food photography, 15mm, studio lighting'"
     },
     "execution_count": 34,
     "metadata": {},
     "output_type": "execute_result"
    }
   ],
   "source": [
    "dalle2_prompt(recipe_title)"
   ],
   "metadata": {
    "collapsed": false
   }
  },
  {
   "cell_type": "code",
   "execution_count": 35,
   "outputs": [],
   "source": [
    "response_img = openai.Image.create(\n",
    "    prompt=dalle2_prompt(recipe_title),\n",
    "    n=1,\n",
    "    size='1024x1024'\n",
    ")"
   ],
   "metadata": {
    "collapsed": false
   }
  },
  {
   "cell_type": "code",
   "execution_count": 36,
   "outputs": [
    {
     "data": {
      "text/plain": "'https://oaidalleapiprodscus.blob.core.windows.net/private/org-Szalay3FmHX9yFCWcoZetlvE/user-7odyJodhbucDxVXcqgSu7BIm/img-uxoFu8gxD7aA9MVFxdfYmWtf.png?st=2023-03-26T15%3A09%3A00Z&se=2023-03-26T17%3A09%3A00Z&sp=r&sv=2021-08-06&sr=b&rscd=inline&rsct=image/png&skoid=6aaadede-4fb3-4698-a8f6-684d7786b067&sktid=a48cca56-e6da-484e-a814-9c849652bcb3&skt=2023-03-25T22%3A32%3A53Z&ske=2023-03-26T22%3A32%3A53Z&sks=b&skv=2021-08-06&sig=vPYphpOqABHTolgN8PfoIvAo/R2z4SwcnjwCrXcXc5k%3D'"
     },
     "execution_count": 36,
     "metadata": {},
     "output_type": "execute_result"
    }
   ],
   "source": [
    "image_url = response_img['data'][0]['url']\n",
    "image_url"
   ],
   "metadata": {
    "collapsed": false
   }
  },
  {
   "cell_type": "code",
   "execution_count": 37,
   "outputs": [],
   "source": [
    "def save_image(image_url, file_name):\n",
    "    image_res = requests.get(image_url, stream=True)\n",
    "    if image_res.status_code == 200:\n",
    "        with open(os.path.join('images', file_name), 'wb') as f:\n",
    "            shutil.copyfileobj(image_res.raw, f)\n",
    "    else:\n",
    "        print('ERROR Loading Image !!')\n",
    "\n",
    "    return image_res.status_code"
   ],
   "metadata": {
    "collapsed": false
   }
  },
  {
   "cell_type": "code",
   "execution_count": 38,
   "outputs": [
    {
     "data": {
      "text/plain": "200"
     },
     "execution_count": 38,
     "metadata": {},
     "output_type": "execute_result"
    }
   ],
   "source": [
    "save_image(image_url, 'ham_turkey_egg_sandwich_with_prompt_func.png')"
   ],
   "metadata": {
    "collapsed": false
   }
  }
 ],
 "metadata": {
  "kernelspec": {
   "display_name": "Python 3",
   "language": "python",
   "name": "python3"
  },
  "language_info": {
   "codemirror_mode": {
    "name": "ipython",
    "version": 2
   },
   "file_extension": ".py",
   "mimetype": "text/x-python",
   "name": "python",
   "nbconvert_exporter": "python",
   "pygments_lexer": "ipython2",
   "version": "2.7.6"
  }
 },
 "nbformat": 4,
 "nbformat_minor": 0
}
